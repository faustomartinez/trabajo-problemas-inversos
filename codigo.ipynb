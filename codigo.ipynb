{
 "cells": [
  {
   "cell_type": "markdown",
   "id": "ff030062-9d46-403e-bd64-ed8910da3f43",
   "metadata": {},
   "source": [
    "# Métodos iterativos"
   ]
  },
  {
   "cell_type": "code",
   "execution_count": 1,
   "id": "4be4cee5-1795-4d90-9d9f-a6be776b855e",
   "metadata": {},
   "outputs": [],
   "source": [
    "import numpy as np\n",
    "import scipy as sp\n",
    "import matplotlib.pyplot as plt"
   ]
  },
  {
   "cell_type": "markdown",
   "id": "6ead1fd5-afd0-4c52-9f78-0f15a2174d07",
   "metadata": {
    "jp-MarkdownHeadingCollapsed": true
   },
   "source": [
    "#### Observaciones\n",
    "\n",
    "\n",
    "* $\\texttt{np.tril}$ devuelve una copia de la matriz $A$, pero con los que estan por encima de la diagonal de la matriz hechos $0$.\n",
    "* $\\texttt{np.triu}$ devuelve una copia de la matriz $A$, pero con los que estan por debajo de la diagonal de la matriz hechos $0$.\n",
    "* $\\texttt{np.diag}$:\n",
    "  - Si el input es una matriz $A$, devuelve su diagonal como un vector $v$ de una dimensión.\n",
    "  - Si el input es un vector $v$ de una dimensión, construye una matriz diagonal $A$ con $v$ como diagonal.\n",
    " \n",
    "Clarifico esto con un par de ejemplos:   "
   ]
  },
  {
   "cell_type": "code",
   "execution_count": 2,
   "id": "3191b39f-5962-4a21-befe-a3c3e09039e4",
   "metadata": {},
   "outputs": [],
   "source": [
    "# Defino una matriz para ejemplificar\n",
    "A = np.asarray([[1,2,3],[4,5,6],[7,8,9]])"
   ]
  },
  {
   "cell_type": "code",
   "execution_count": 3,
   "id": "c63006c7-f7da-4773-af44-b48ab6b77d82",
   "metadata": {},
   "outputs": [
    {
     "data": {
      "text/plain": [
       "array([[1, 0, 0],\n",
       "       [4, 5, 0],\n",
       "       [7, 8, 9]])"
      ]
     },
     "execution_count": 3,
     "metadata": {},
     "output_type": "execute_result"
    }
   ],
   "source": [
    "# Me quedo con la parte inferior + diagonal de la matriz\n",
    "np.tril(A)"
   ]
  },
  {
   "cell_type": "code",
   "execution_count": 4,
   "id": "11fc3ba8-9940-4bc4-8cce-988baf668e1c",
   "metadata": {},
   "outputs": [
    {
     "data": {
      "text/plain": [
       "array([[0, 0, 0],\n",
       "       [4, 0, 0],\n",
       "       [7, 8, 0]])"
      ]
     },
     "execution_count": 4,
     "metadata": {},
     "output_type": "execute_result"
    }
   ],
   "source": [
    "# Me quedo con la parte inferior de la matriz\n",
    "np.tril(A,-1)"
   ]
  },
  {
   "cell_type": "code",
   "execution_count": 5,
   "id": "76924a40-aa96-46d9-b720-3ba78b8ab380",
   "metadata": {},
   "outputs": [
    {
     "data": {
      "text/plain": [
       "array([[1, 2, 3],\n",
       "       [0, 5, 6],\n",
       "       [0, 0, 9]])"
      ]
     },
     "execution_count": 5,
     "metadata": {},
     "output_type": "execute_result"
    }
   ],
   "source": [
    "# Me quedo con la parte superior + diagonal de la matriz\n",
    "np.triu(A)"
   ]
  },
  {
   "cell_type": "code",
   "execution_count": 6,
   "id": "17e20069-954c-47a3-8d76-aeb36cf32874",
   "metadata": {},
   "outputs": [
    {
     "data": {
      "text/plain": [
       "array([[0, 2, 3],\n",
       "       [0, 0, 6],\n",
       "       [0, 0, 0]])"
      ]
     },
     "execution_count": 6,
     "metadata": {},
     "output_type": "execute_result"
    }
   ],
   "source": [
    "# Me quedo con la parte superior de la matriz\n",
    "np.triu(A,1)"
   ]
  },
  {
   "cell_type": "code",
   "execution_count": 7,
   "id": "13cf599c-9fc5-47ca-87bd-5a3dd74f2485",
   "metadata": {},
   "outputs": [
    {
     "data": {
      "text/plain": [
       "array([1, 5, 9])"
      ]
     },
     "execution_count": 7,
     "metadata": {},
     "output_type": "execute_result"
    }
   ],
   "source": [
    "# Me quedo con la diagonal de la matriz\n",
    "np.diag(A)"
   ]
  },
  {
   "cell_type": "code",
   "execution_count": 8,
   "id": "8e8e02b7-6846-4548-9fff-069e12b20958",
   "metadata": {},
   "outputs": [
    {
     "data": {
      "text/plain": [
       "array([[1, 0, 0],\n",
       "       [0, 5, 0],\n",
       "       [0, 0, 9]])"
      ]
     },
     "execution_count": 8,
     "metadata": {},
     "output_type": "execute_result"
    }
   ],
   "source": [
    "# Me quedo con la diagonal de la matriz como matriz\n",
    "np.diag(np.diag(A))"
   ]
  },
  {
   "cell_type": "code",
   "execution_count": 9,
   "id": "383594bc-dbb7-4ee5-ae69-df03a16a58cc",
   "metadata": {},
   "outputs": [
    {
     "data": {
      "text/plain": [
       "array([[1.        , 0.        , 0.        ],\n",
       "       [0.        , 0.2       , 0.        ],\n",
       "       [0.        , 0.        , 0.11111111]])"
      ]
     },
     "execution_count": 9,
     "metadata": {},
     "output_type": "execute_result"
    }
   ],
   "source": [
    "# Me quedo con la inversa de la diagonal como matriz\n",
    "np.diag(1/np.diag(A))"
   ]
  },
  {
   "cell_type": "markdown",
   "id": "1763feff-ca02-4401-9611-abc502195974",
   "metadata": {},
   "source": [
    "## Método de Jacobi"
   ]
  },
  {
   "cell_type": "markdown",
   "id": "0ce21ad6-7637-4837-a026-ee26c5874395",
   "metadata": {},
   "source": [
    "En el método de Jacobi, escribimos a la matriz $A$ como\n",
    "\n",
    "$$A=D+R$$\n",
    "\n",
    "donde $D$ es diagonal y $R$ es la suma de una matriz triangular inferior $L$ y una matriz triangular superior $U$, es decir $R=L+U$. Para resolver $Ax=b$, tenemos:\n",
    "\n",
    "$$(D+R)x=b$$\n",
    "$$Dx + Rx = b$$\n",
    "\n",
    "y por lo tanto,\n",
    "\n",
    "$$x = D^{-1} (b-Rx)$$\n",
    "\n",
    "Si fuera que $a_{ii}=0$ para todo $i$, entonces la regla iterativa del método de Jacobi puede ser definida como:\n",
    "\n",
    "$$x^{(k+1)} = D^{-1} \\left(b-Rx^{(k)}\\right)$$\n",
    "\n",
    "o de otra manera:\n",
    "\n",
    "$$x_i^{(k+1)} = \\frac{1}{a_{ii}} \\left(b_i - \\sum_{j\\neq i} a_{ij}x_j^{(k)} \\right) \\, \\text{, para todo } i$$"
   ]
  },
  {
   "cell_type": "code",
   "execution_count": 10,
   "id": "9fd3688c-c85f-4e4d-bbc1-7a4ecc10abd9",
   "metadata": {},
   "outputs": [],
   "source": [
    "def Jacobi(A, b, tol = 1e-10, tope_iteraciones = 1000):\n",
    "    # Chequeamos que las dimensiones sean apropiadas\n",
    "    if A.shape[0] != A.shape[1]:\n",
    "        raise ValueError(\"La matriz A no es cuadrada\")\n",
    "    if A.shape[1] != b.shape[0]:\n",
    "        raise ValueError(\"Las dimensiones del sistema no cuadran\")\n",
    "\n",
    "    # Definimos a n como la dimensión de la matriz\n",
    "    n = A.shape[0]\n",
    "\n",
    "    # Inicializamos el vector respuesta\n",
    "    x = np.zeros(n)\n",
    "\n",
    "    # Definimos matrices de interés\n",
    "    D_inv = np.diag(1 / np.diag(A))\n",
    "    R = np.tril(A,-1) + np.triu(A,1)\n",
    "\n",
    "    # Definimos el tope de iteraciones\n",
    "    tope_iteraciones = 1000\n",
    "\n",
    "    k = 0\n",
    "    while k < tope_iteraciones:\n",
    "        x_nuevo = D_inv @ (b - R@x)\n",
    "\n",
    "        # Si el método se estacionó\n",
    "        if np.linalg.norm(x_nuevo - x, ord = np.inf) < tol:\n",
    "            return x_nuevo\n",
    "\n",
    "        # Actualizamos el valor de x\n",
    "        x = x_nuevo\n",
    "        k += 1\n",
    "        \n",
    "    raise RuntimeError(f\"Advertencia: se alcanzó el tope de {tope_iteraciones} iteraciones sin converger.\")"
   ]
  },
  {
   "cell_type": "markdown",
   "id": "740859d4-0511-4f7a-927b-7b7784e07aba",
   "metadata": {},
   "source": [
    "#### Ejemplo 1"
   ]
  },
  {
   "cell_type": "markdown",
   "id": "b5650bdd-7ed4-40d2-8d7d-7597f0345b48",
   "metadata": {},
   "source": [
    "Tomemos la matriz estrictamente diagonal dominante:\n",
    "\n",
    "$$\n",
    "A\n",
    "=\n",
    "\\begin{pmatrix}\n",
    "10 & 2 & 1\\\\\n",
    "1 & 10 & 2\\\\\n",
    "2 & 3 & 10\\\\\n",
    "\\end{pmatrix}\n",
    "$$\n",
    "\n",
    "que por lo probado teóricamente debería converger."
   ]
  },
  {
   "cell_type": "code",
   "execution_count": 11,
   "id": "79455bed-50e8-4b4d-93b9-b3a3043bb6ee",
   "metadata": {},
   "outputs": [],
   "source": [
    "# Defino una matriz y un vector para probar la función\n",
    "\n",
    "A = np.asarray([[10,2,1],[1,10,2],[2,3,10]])\n",
    "b = np.array([7,8,9])"
   ]
  },
  {
   "cell_type": "code",
   "execution_count": 12,
   "id": "53ff170f-b7b1-4d0d-ae8f-3b8d7f8062f7",
   "metadata": {},
   "outputs": [
    {
     "data": {
      "text/plain": [
       "array([0.51372119, 0.62678375, 0.60922064])"
      ]
     },
     "execution_count": 12,
     "metadata": {},
     "output_type": "execute_result"
    }
   ],
   "source": [
    "# Vemos la solución que nos da Python con numpy\n",
    "np.linalg.solve(A,b)"
   ]
  },
  {
   "cell_type": "code",
   "execution_count": 13,
   "id": "83599606-9b4f-4a3b-8aa8-7aeff557ab51",
   "metadata": {},
   "outputs": [
    {
     "data": {
      "text/plain": [
       "array([0.51372119, 0.62678375, 0.60922064])"
      ]
     },
     "execution_count": 13,
     "metadata": {},
     "output_type": "execute_result"
    }
   ],
   "source": [
    "# Vemos la solución que nos da nuestro método de Jacobi\n",
    "Jacobi(A,b)"
   ]
  },
  {
   "cell_type": "markdown",
   "id": "fd6eade2-a10c-4a99-9512-ad9dae5ef2bf",
   "metadata": {},
   "source": [
    "Vemos, que como teníamos probado teóricamente, el método parece converger a una buena solución"
   ]
  },
  {
   "cell_type": "markdown",
   "id": "7daace32-c697-47e3-80eb-cc379dc5c457",
   "metadata": {},
   "source": [
    "### Ejemplo 2"
   ]
  },
  {
   "cell_type": "markdown",
   "id": "9eaffd97-f14a-4560-af2b-12bb9f30f05a",
   "metadata": {},
   "source": [
    "Tomemos la matriz\n",
    "$$\n",
    "A\n",
    "=\n",
    "\\begin{pmatrix}\n",
    "0.3 & 0.1 & 0.2 \\\\\n",
    "0.1 & 0.4 & 0.1 \\\\\n",
    "0.2 & 0.1 & 0.3\n",
    "\\end{pmatrix}\n",
    "$$\n",
    "que, como veremos, cumple $\\rho(A) < 1$ y por tanto debería converger"
   ]
  },
  {
   "cell_type": "code",
   "execution_count": 14,
   "id": "c45b1870-c78f-4e99-8868-48fe065eaeca",
   "metadata": {},
   "outputs": [],
   "source": [
    "# Defino una matriz y un vector para probar la función\n",
    "\n",
    "A = np.asarray([[0.3,0.1,0.2],[0.1,0.4,0.1],[0.2,0.1,0.3]])\n",
    "b = np.array([7,8,9])"
   ]
  },
  {
   "cell_type": "code",
   "execution_count": 15,
   "id": "72f4bb0c-c78f-4360-ae47-4183ecb02354",
   "metadata": {},
   "outputs": [],
   "source": [
    "# Aseveramos que el radio espectral de A es menor que 1\n",
    "assert np.max(np.abs(np.linalg.eigvals(A))) < 1"
   ]
  },
  {
   "cell_type": "code",
   "execution_count": 16,
   "id": "7b128a31-2263-4f35-ba38-5cded40f8683",
   "metadata": {},
   "outputs": [
    {
     "data": {
      "text/plain": [
       "array([ 3.33333333, 13.33333333, 23.33333333])"
      ]
     },
     "execution_count": 16,
     "metadata": {},
     "output_type": "execute_result"
    }
   ],
   "source": [
    "# Vemos la solución que nos da Python con numpy\n",
    "np.linalg.solve(A,b)"
   ]
  },
  {
   "cell_type": "code",
   "execution_count": 17,
   "id": "8ff4d166-f095-4c7c-b2e1-a28431df3053",
   "metadata": {},
   "outputs": [
    {
     "data": {
      "text/plain": [
       "array([ 3.33333333, 13.33333333, 23.33333333])"
      ]
     },
     "execution_count": 17,
     "metadata": {},
     "output_type": "execute_result"
    }
   ],
   "source": [
    "# Vemos la solución que nos da nuestro método de Jacobi\n",
    "Jacobi(A,b)"
   ]
  },
  {
   "cell_type": "markdown",
   "id": "b512d5bb-0142-49b9-a03e-3b2004204b27",
   "metadata": {},
   "source": [
    "Observamos, entonces, el comportamiento esperado."
   ]
  },
  {
   "cell_type": "markdown",
   "id": "cdf9f41e-6d0b-4a3f-83b8-294efa43f97f",
   "metadata": {},
   "source": [
    "#### Ejemplo 3"
   ]
  },
  {
   "cell_type": "markdown",
   "id": "074568fb-30e3-4fbb-8491-8fec2bf3c9b4",
   "metadata": {},
   "source": [
    "Si tomamos la matriz\n",
    "$$\n",
    "A\n",
    "=\n",
    "\\begin{pmatrix}\n",
    "1 & 2 & 3 \\\\\n",
    "4 & 5 & 6 \\\\\n",
    "7 & 8 & 10 \\\\\n",
    "\\end{pmatrix}\n",
    "$$\n",
    "\n",
    "observaremos que al no cumplir ninguna de las condiciones de Jacobi, no convergerá a una buena solución."
   ]
  },
  {
   "cell_type": "code",
   "execution_count": 18,
   "id": "faa21a03-4135-4c8b-b41d-650111ea4fd6",
   "metadata": {},
   "outputs": [],
   "source": [
    "# Defino otra matriz para probar cuando Jacobi no converge\n",
    "\n",
    "A = np.asarray([[1,2,3],[4,5,6],[7,8,10]])\n",
    "b = np.array([7,8,9])"
   ]
  },
  {
   "cell_type": "code",
   "execution_count": 19,
   "id": "1fe47b66-0276-4446-9b63-573d742347b6",
   "metadata": {},
   "outputs": [
    {
     "name": "stderr",
     "output_type": "stream",
     "text": [
      "C:\\Users\\Fausto\\AppData\\Local\\Temp\\ipykernel_13044\\2618127736.py:23: RuntimeWarning: overflow encountered in matmul\n",
      "  x_nuevo = D_inv @ (b - R@x)\n",
      "C:\\Users\\Fausto\\AppData\\Local\\Temp\\ipykernel_13044\\2618127736.py:23: RuntimeWarning: invalid value encountered in matmul\n",
      "  x_nuevo = D_inv @ (b - R@x)\n"
     ]
    },
    {
     "ename": "RuntimeError",
     "evalue": "Advertencia: se alcanzó el tope de 1000 iteraciones sin converger.",
     "output_type": "error",
     "traceback": [
      "\u001b[1;31m---------------------------------------------------------------------------\u001b[0m",
      "\u001b[1;31mRuntimeError\u001b[0m                              Traceback (most recent call last)",
      "Cell \u001b[1;32mIn[19], line 2\u001b[0m\n\u001b[0;32m      1\u001b[0m \u001b[38;5;66;03m# Vemos la solución que nos da nuestro método de Jacobi\u001b[39;00m\n\u001b[1;32m----> 2\u001b[0m \u001b[43mJacobi\u001b[49m\u001b[43m(\u001b[49m\u001b[43mA\u001b[49m\u001b[43m,\u001b[49m\u001b[43mb\u001b[49m\u001b[43m)\u001b[49m\n",
      "Cell \u001b[1;32mIn[10], line 33\u001b[0m, in \u001b[0;36mJacobi\u001b[1;34m(A, b, tol, tope_iteraciones)\u001b[0m\n\u001b[0;32m     30\u001b[0m     x \u001b[38;5;241m=\u001b[39m x_nuevo\n\u001b[0;32m     31\u001b[0m     k \u001b[38;5;241m+\u001b[39m\u001b[38;5;241m=\u001b[39m \u001b[38;5;241m1\u001b[39m\n\u001b[1;32m---> 33\u001b[0m \u001b[38;5;28;01mraise\u001b[39;00m \u001b[38;5;167;01mRuntimeError\u001b[39;00m(\u001b[38;5;124mf\u001b[39m\u001b[38;5;124m\"\u001b[39m\u001b[38;5;124mAdvertencia: se alcanzó el tope de \u001b[39m\u001b[38;5;132;01m{\u001b[39;00mtope_iteraciones\u001b[38;5;132;01m}\u001b[39;00m\u001b[38;5;124m iteraciones sin converger.\u001b[39m\u001b[38;5;124m\"\u001b[39m)\n",
      "\u001b[1;31mRuntimeError\u001b[0m: Advertencia: se alcanzó el tope de 1000 iteraciones sin converger."
     ]
    }
   ],
   "source": [
    "# Vemos la solución que nos da nuestro método de Jacobi\n",
    "Jacobi(A,b)"
   ]
  },
  {
   "cell_type": "markdown",
   "id": "58dc5a77-e973-446d-a1f0-d27df05ecfac",
   "metadata": {},
   "source": [
    "Obtenemos la advertencia de que llegamos al tope de iteraciones que habíamos planteado para la función, pero, ¿y si forzamos más iteraciones?"
   ]
  },
  {
   "cell_type": "code",
   "execution_count": 20,
   "id": "b6a41463-2c29-4bef-88d6-8f4d78bd5007",
   "metadata": {},
   "outputs": [
    {
     "data": {
      "text/plain": [
       "array([7. , 1.6, 0.9])"
      ]
     },
     "execution_count": 20,
     "metadata": {},
     "output_type": "execute_result"
    }
   ],
   "source": [
    "# Vemos la solución que nos da nuestro método de Jacobi forzando más iteraciones\n",
    "Jacobi(A,b,10000)"
   ]
  },
  {
   "cell_type": "code",
   "execution_count": 21,
   "id": "b640ef7b-e81e-4a06-96a7-2084d92c67af",
   "metadata": {},
   "outputs": [
    {
     "data": {
      "text/plain": [
       "array([-6.33333333e+00,  6.66666667e+00,  1.77635684e-15])"
      ]
     },
     "execution_count": 21,
     "metadata": {},
     "output_type": "execute_result"
    }
   ],
   "source": [
    "np.linalg.solve(A,b)"
   ]
  },
  {
   "cell_type": "markdown",
   "id": "4656c830-d273-49d7-b26a-1228ebd968ac",
   "metadata": {},
   "source": [
    "Vemos que las soluciones en este caso son significativamente distintas. Esto nos confirma que para la utilización de métodos iterativos deberemos ser cautelosos sobre las condiciones que hay que imponerle a la matriz para que converjan."
   ]
  },
  {
   "cell_type": "markdown",
   "id": "7f7e0196-0a5d-4130-9834-871dad1b6e53",
   "metadata": {},
   "source": [
    "## Método de Gauss-Seidel"
   ]
  },
  {
   "cell_type": "code",
   "execution_count": null,
   "id": "d744c788-c745-4a0c-9cbd-22ef21759e27",
   "metadata": {},
   "outputs": [],
   "source": []
  }
 ],
 "metadata": {
  "kernelspec": {
   "display_name": "Python 3 (ipykernel)",
   "language": "python",
   "name": "python3"
  },
  "language_info": {
   "codemirror_mode": {
    "name": "ipython",
    "version": 3
   },
   "file_extension": ".py",
   "mimetype": "text/x-python",
   "name": "python",
   "nbconvert_exporter": "python",
   "pygments_lexer": "ipython3",
   "version": "3.11.5"
  }
 },
 "nbformat": 4,
 "nbformat_minor": 5
}
