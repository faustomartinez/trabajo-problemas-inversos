{
 "cells": [
  {
   "cell_type": "markdown",
   "id": "ff030062-9d46-403e-bd64-ed8910da3f43",
   "metadata": {},
   "source": [
    "# Métodos iterativos"
   ]
  },
  {
   "cell_type": "code",
   "execution_count": 1,
   "id": "4be4cee5-1795-4d90-9d9f-a6be776b855e",
   "metadata": {},
   "outputs": [],
   "source": [
    "import numpy as np\n",
    "import scipy as sp\n",
    "import matplotlib.pyplot as plt\n",
    "import warnings"
   ]
  },
  {
   "cell_type": "markdown",
   "id": "6ead1fd5-afd0-4c52-9f78-0f15a2174d07",
   "metadata": {
    "jp-MarkdownHeadingCollapsed": true
   },
   "source": [
    "#### Observaciones\n",
    "\n",
    "\n",
    "* $\\texttt{np.tril}$ devuelve una copia de la matriz $A$, pero con los que estan por encima de la diagonal de la matriz hechos $0$.\n",
    "* $\\texttt{np.triu}$ devuelve una copia de la matriz $A$, pero con los que estan por debajo de la diagonal de la matriz hechos $0$.\n",
    "* $\\texttt{np.diag}$:\n",
    "  - Si el input es una matriz $A$, devuelve su diagonal como un vector $v$ de una dimensión.\n",
    "  - Si el input es un vector $v$ de una dimensión, construye una matriz diagonal $A$ con $v$ como diagonal.\n",
    " \n",
    "Clarifico esto con un par de ejemplos:   "
   ]
  },
  {
   "cell_type": "code",
   "execution_count": 2,
   "id": "3191b39f-5962-4a21-befe-a3c3e09039e4",
   "metadata": {},
   "outputs": [],
   "source": [
    "# Defino una matriz para ejemplificar\n",
    "A = np.asarray([[1,2,3],[4,5,6],[7,8,9]])"
   ]
  },
  {
   "cell_type": "code",
   "execution_count": 3,
   "id": "c63006c7-f7da-4773-af44-b48ab6b77d82",
   "metadata": {},
   "outputs": [
    {
     "data": {
      "text/plain": [
       "array([[1, 0, 0],\n",
       "       [4, 5, 0],\n",
       "       [7, 8, 9]])"
      ]
     },
     "execution_count": 3,
     "metadata": {},
     "output_type": "execute_result"
    }
   ],
   "source": [
    "# Me quedo con la parte inferior + diagonal de la matriz\n",
    "np.tril(A)"
   ]
  },
  {
   "cell_type": "code",
   "execution_count": 4,
   "id": "11fc3ba8-9940-4bc4-8cce-988baf668e1c",
   "metadata": {},
   "outputs": [
    {
     "data": {
      "text/plain": [
       "array([[0, 0, 0],\n",
       "       [4, 0, 0],\n",
       "       [7, 8, 0]])"
      ]
     },
     "execution_count": 4,
     "metadata": {},
     "output_type": "execute_result"
    }
   ],
   "source": [
    "# Me quedo con la parte inferior de la matriz\n",
    "np.tril(A,-1)"
   ]
  },
  {
   "cell_type": "code",
   "execution_count": 5,
   "id": "76924a40-aa96-46d9-b720-3ba78b8ab380",
   "metadata": {},
   "outputs": [
    {
     "data": {
      "text/plain": [
       "array([[1, 2, 3],\n",
       "       [0, 5, 6],\n",
       "       [0, 0, 9]])"
      ]
     },
     "execution_count": 5,
     "metadata": {},
     "output_type": "execute_result"
    }
   ],
   "source": [
    "# Me quedo con la parte superior + diagonal de la matriz\n",
    "np.triu(A)"
   ]
  },
  {
   "cell_type": "code",
   "execution_count": 6,
   "id": "17e20069-954c-47a3-8d76-aeb36cf32874",
   "metadata": {},
   "outputs": [
    {
     "data": {
      "text/plain": [
       "array([[0, 2, 3],\n",
       "       [0, 0, 6],\n",
       "       [0, 0, 0]])"
      ]
     },
     "execution_count": 6,
     "metadata": {},
     "output_type": "execute_result"
    }
   ],
   "source": [
    "# Me quedo con la parte superior de la matriz\n",
    "np.triu(A,1)"
   ]
  },
  {
   "cell_type": "code",
   "execution_count": 7,
   "id": "13cf599c-9fc5-47ca-87bd-5a3dd74f2485",
   "metadata": {},
   "outputs": [
    {
     "data": {
      "text/plain": [
       "array([1, 5, 9])"
      ]
     },
     "execution_count": 7,
     "metadata": {},
     "output_type": "execute_result"
    }
   ],
   "source": [
    "# Me quedo con la diagonal de la matriz\n",
    "np.diag(A)"
   ]
  },
  {
   "cell_type": "code",
   "execution_count": 8,
   "id": "8e8e02b7-6846-4548-9fff-069e12b20958",
   "metadata": {},
   "outputs": [
    {
     "data": {
      "text/plain": [
       "array([[1, 0, 0],\n",
       "       [0, 5, 0],\n",
       "       [0, 0, 9]])"
      ]
     },
     "execution_count": 8,
     "metadata": {},
     "output_type": "execute_result"
    }
   ],
   "source": [
    "# Me quedo con la diagonal de la matriz como matriz\n",
    "np.diag(np.diag(A))"
   ]
  },
  {
   "cell_type": "code",
   "execution_count": 9,
   "id": "383594bc-dbb7-4ee5-ae69-df03a16a58cc",
   "metadata": {},
   "outputs": [
    {
     "data": {
      "text/plain": [
       "array([[1.        , 0.        , 0.        ],\n",
       "       [0.        , 0.2       , 0.        ],\n",
       "       [0.        , 0.        , 0.11111111]])"
      ]
     },
     "execution_count": 9,
     "metadata": {},
     "output_type": "execute_result"
    }
   ],
   "source": [
    "# Me quedo con la inversa de la diagonal como matriz\n",
    "np.diag(1/np.diag(A))"
   ]
  },
  {
   "cell_type": "markdown",
   "id": "1763feff-ca02-4401-9611-abc502195974",
   "metadata": {
    "jp-MarkdownHeadingCollapsed": true
   },
   "source": [
    "## Método de Jacobi"
   ]
  },
  {
   "cell_type": "markdown",
   "id": "0ce21ad6-7637-4837-a026-ee26c5874395",
   "metadata": {},
   "source": [
    "En el método de Jacobi, escribimos a la matriz $A$ como\n",
    "\n",
    "$$A=D+R$$\n",
    "\n",
    "donde $D$ es diagonal y $R$ es la suma de una matriz triangular inferior $L$ y una matriz triangular superior $U$, es decir $R=L+U$. Para resolver $Ax=b$, tenemos:\n",
    "\n",
    "$$(D+R)x=b$$\n",
    "$$Dx + Rx = b$$\n",
    "\n",
    "y por lo tanto,\n",
    "\n",
    "$$x = D^{-1} (b-Rx)$$\n",
    "\n",
    "Si fuera que $a_{ii}=0$ para todo $i$, entonces la regla iterativa del método de Jacobi puede ser definida como:\n",
    "\n",
    "$$x^{(k+1)} = D^{-1} \\left(b-Rx^{(k)}\\right)$$\n",
    "\n",
    "o de otra manera:\n",
    "\n",
    "$$x_i^{(k+1)} = \\frac{1}{a_{ii}} \\left(b_i - \\sum_{j\\neq i} a_{ij}x_j^{(k)} \\right) \\, \\text{, para todo } i$$"
   ]
  },
  {
   "cell_type": "code",
   "execution_count": 10,
   "id": "9fd3688c-c85f-4e4d-bbc1-7a4ecc10abd9",
   "metadata": {},
   "outputs": [],
   "source": [
    "def Jacobi(A, b, tol = 1e-10, tope_iteraciones = 1000):\n",
    "    # Chequeamos que las dimensiones sean apropiadas\n",
    "    if A.shape[0] != A.shape[1]:\n",
    "        raise ValueError(\"La matriz A no es cuadrada\")\n",
    "    if A.shape[1] != b.shape[0]:\n",
    "        raise ValueError(\"Las dimensiones del sistema no cuadran\")\n",
    "\n",
    "    # Definimos a n como la dimensión de la matriz\n",
    "    n = A.shape[0]\n",
    "\n",
    "    # Inicializamos el vector respuesta\n",
    "    x = np.zeros(n)\n",
    "    \n",
    "    k = 0\n",
    "    # Iteramos mientras no superemos el límite de iteraciones\n",
    "    while k < tope_iteraciones:\n",
    "        # Creamos una copia del vector x\n",
    "        x_nuevo = np.copy(x)\n",
    "\n",
    "        # Actualizamos a x_nuevo, que es x_i ^(k+1) en nuestra notación de arriba, siguiendo al método de Jacobi\n",
    "        for i in range(n):\n",
    "            suma = sum(A[i][j] * x[j] for j in range(n) if j != i)  \n",
    "            x_nuevo[i] = (b[i] - suma) / A[i][i]\n",
    "        \n",
    "        # Si el método se estacionó, es decir, la diferencia entre el x_nuevo y el antiguo es menor que cierta tolerancia,\n",
    "        # directamente devolvemos el x_nuevo\n",
    "        if np.linalg.norm(x_nuevo - x, ord = np.inf) < tol:\n",
    "            return x_nuevo\n",
    "\n",
    "        # Actualizamos el valor de x para la siguiente iteración, y aumentamos en 1 el número de iteraciones\n",
    "        x = x_nuevo\n",
    "        k += 1\n",
    "\n",
    "    # Si terminamos el while sin que el método se estacione, hacemos que la función devuelva un mensaje de advertencia.\n",
    "    warnings.warn(f\"Advertencia: se alcanzó el tope de {tope_iteraciones} iteraciones sin converger.\")"
   ]
  },
  {
   "cell_type": "markdown",
   "id": "740859d4-0511-4f7a-927b-7b7784e07aba",
   "metadata": {},
   "source": [
    "#### Ejemplo 1 - Criterio EDD"
   ]
  },
  {
   "cell_type": "markdown",
   "id": "b5650bdd-7ed4-40d2-8d7d-7597f0345b48",
   "metadata": {},
   "source": [
    "Tomemos la matriz estrictamente diagonal dominante:\n",
    "\n",
    "$$\n",
    "A\n",
    "=\n",
    "\\begin{pmatrix}\n",
    "10 & 2 & 1\\\\\n",
    "1 & 10 & 2\\\\\n",
    "2 & 3 & 10\\\\\n",
    "\\end{pmatrix}\n",
    "$$\n",
    "\n",
    "que por lo probado teóricamente debería converger."
   ]
  },
  {
   "cell_type": "code",
   "execution_count": 11,
   "id": "79455bed-50e8-4b4d-93b9-b3a3043bb6ee",
   "metadata": {},
   "outputs": [],
   "source": [
    "# Definimos una matriz y un vector para probar la función\n",
    "\n",
    "A = np.asarray([[10,2,1],[1,10,2],[2,3,10]])\n",
    "b = np.array([7,8,9])"
   ]
  },
  {
   "cell_type": "code",
   "execution_count": 12,
   "id": "53ff170f-b7b1-4d0d-ae8f-3b8d7f8062f7",
   "metadata": {},
   "outputs": [
    {
     "data": {
      "text/plain": [
       "array([0.51372119, 0.62678375, 0.60922064])"
      ]
     },
     "execution_count": 12,
     "metadata": {},
     "output_type": "execute_result"
    }
   ],
   "source": [
    "# Vemos la solución que nos da Python con numpy\n",
    "np.linalg.solve(A,b)"
   ]
  },
  {
   "cell_type": "code",
   "execution_count": 13,
   "id": "83599606-9b4f-4a3b-8aa8-7aeff557ab51",
   "metadata": {},
   "outputs": [
    {
     "data": {
      "text/plain": [
       "array([0.51372119, 0.62678375, 0.60922064])"
      ]
     },
     "execution_count": 13,
     "metadata": {},
     "output_type": "execute_result"
    }
   ],
   "source": [
    "# Vemos la solución que nos da nuestro método de Jacobi\n",
    "Jacobi(A,b)"
   ]
  },
  {
   "cell_type": "markdown",
   "id": "fd6eade2-a10c-4a99-9512-ad9dae5ef2bf",
   "metadata": {},
   "source": [
    "Vemos, que como teníamos probado teóricamente, el método parece converger a una buena solución"
   ]
  },
  {
   "cell_type": "markdown",
   "id": "cdf9f41e-6d0b-4a3f-83b8-294efa43f97f",
   "metadata": {},
   "source": [
    "#### Ejemplo 2 - Método no convergiendo"
   ]
  },
  {
   "cell_type": "markdown",
   "id": "074568fb-30e3-4fbb-8491-8fec2bf3c9b4",
   "metadata": {},
   "source": [
    "Si tomamos la matriz\n",
    "$$\n",
    "A\n",
    "=\n",
    "\\begin{pmatrix}\n",
    "1 & 2 & 3 \\\\\n",
    "4 & 5 & 6 \\\\\n",
    "7 & 8 & 10 \\\\\n",
    "\\end{pmatrix}\n",
    "$$\n",
    "\n",
    "observaremos que al no cumplir ninguna de las condiciones de Jacobi, podría no converger a una buena solución."
   ]
  },
  {
   "cell_type": "code",
   "execution_count": 14,
   "id": "faa21a03-4135-4c8b-b41d-650111ea4fd6",
   "metadata": {},
   "outputs": [],
   "source": [
    "# Definimos otra matriz para probar cuando Jacobi no converge\n",
    "\n",
    "A = np.asarray([[1,2,3],[4,5,6],[7,8,10]])\n",
    "b = np.array([7,8,9])"
   ]
  },
  {
   "cell_type": "code",
   "execution_count": 15,
   "id": "1fe47b66-0276-4446-9b63-573d742347b6",
   "metadata": {},
   "outputs": [
    {
     "name": "stderr",
     "output_type": "stream",
     "text": [
      "C:\\Users\\Fausto\\AppData\\Local\\Temp\\ipykernel_8472\\2863069600.py:22: RuntimeWarning: overflow encountered in scalar add\n",
      "  suma = sum(A[i][j] * x[j] for j in range(n) if j != i)\n",
      "C:\\Users\\Fausto\\AppData\\Local\\Temp\\ipykernel_8472\\2863069600.py:22: RuntimeWarning: overflow encountered in scalar multiply\n",
      "  suma = sum(A[i][j] * x[j] for j in range(n) if j != i)\n",
      "C:\\Users\\Fausto\\AppData\\Local\\Temp\\ipykernel_8472\\2863069600.py:35: UserWarning: Advertencia: se alcanzó el tope de 1000 iteraciones sin converger.\n",
      "  warnings.warn(f\"Advertencia: se alcanzó el tope de {tope_iteraciones} iteraciones sin converger.\")\n"
     ]
    }
   ],
   "source": [
    "# Vemos la solución que nos da nuestro método de Jacobi\n",
    "Jacobi(A,b)"
   ]
  },
  {
   "cell_type": "markdown",
   "id": "58dc5a77-e973-446d-a1f0-d27df05ecfac",
   "metadata": {},
   "source": [
    "Obtenemos la advertencia de que llegamos al tope de iteraciones que habíamos planteado para la función, pero, ¿y si forzamos más iteraciones?"
   ]
  },
  {
   "cell_type": "code",
   "execution_count": 16,
   "id": "b6a41463-2c29-4bef-88d6-8f4d78bd5007",
   "metadata": {},
   "outputs": [
    {
     "name": "stderr",
     "output_type": "stream",
     "text": [
      "C:\\Users\\Fausto\\AppData\\Local\\Temp\\ipykernel_8472\\2863069600.py:22: RuntimeWarning: overflow encountered in scalar add\n",
      "  suma = sum(A[i][j] * x[j] for j in range(n) if j != i)\n",
      "C:\\Users\\Fausto\\AppData\\Local\\Temp\\ipykernel_8472\\2863069600.py:22: RuntimeWarning: overflow encountered in scalar multiply\n",
      "  suma = sum(A[i][j] * x[j] for j in range(n) if j != i)\n",
      "C:\\Users\\Fausto\\AppData\\Local\\Temp\\ipykernel_8472\\2863069600.py:35: UserWarning: Advertencia: se alcanzó el tope de 10000 iteraciones sin converger.\n",
      "  warnings.warn(f\"Advertencia: se alcanzó el tope de {tope_iteraciones} iteraciones sin converger.\")\n"
     ]
    }
   ],
   "source": [
    "# Vemos la solución que nos da nuestro método de Jacobi forzando más iteraciones\n",
    "Jacobi(A,b,tope_iteraciones = 10000)"
   ]
  },
  {
   "cell_type": "code",
   "execution_count": 17,
   "id": "b640ef7b-e81e-4a06-96a7-2084d92c67af",
   "metadata": {},
   "outputs": [
    {
     "data": {
      "text/plain": [
       "array([-6.33333333e+00,  6.66666667e+00,  1.77635684e-15])"
      ]
     },
     "execution_count": 17,
     "metadata": {},
     "output_type": "execute_result"
    }
   ],
   "source": [
    "np.linalg.solve(A,b)"
   ]
  },
  {
   "cell_type": "markdown",
   "id": "4656c830-d273-49d7-b26a-1228ebd968ac",
   "metadata": {},
   "source": [
    "Vemos que las soluciones en este caso son significativamente distintas. Esto nos confirma que para la utilización de métodos iterativos deberemos ser cautelosos sobre las condiciones que hay que imponerle a la matriz para que converjan, y que el estudio de la convergencia de los métodos es muy importante."
   ]
  },
  {
   "cell_type": "markdown",
   "id": "7f7e0196-0a5d-4130-9834-871dad1b6e53",
   "metadata": {
    "jp-MarkdownHeadingCollapsed": true
   },
   "source": [
    "## Método de Gauss-Seidel"
   ]
  },
  {
   "cell_type": "markdown",
   "id": "b338f31f-e5a5-4dcd-a7b0-e71a20d5c2a9",
   "metadata": {},
   "source": [
    "En el método de Gauss-Seidel, escribimos a la matriz $A$ como\n",
    "\n",
    "$$A= R + U$$\n",
    "\n",
    "donde $U$ es triangular superior con ceros en la diagonal y $R$ es la suma de una matriz triangular inferior $L$ y la matrix diagonal $D$, es decir $R=L+D$. Para resolver $Ax=b$, tenemos:\n",
    "\n",
    "$$(R+U)x=b$$\n",
    "$$Rx + Ux = b$$\n",
    "\n",
    "y por lo tanto,\n",
    "\n",
    "$$x = R^{-1} (b-Ux)$$\n",
    "\n",
    "Si fuera que $a_{ii}=0$ para todo $i$, entonces la regla iterativa del método de Gauss-Seidel puede ser definida como:\n",
    "\n",
    "$$x^{(k+1)} = (L+D)^{-1} \\left(b-Ux^{(k)}\\right)$$\n",
    "\n",
    "o de otra manera:\n",
    "\n",
    "$$x_i^{(k+1)} = \\frac{1}{a_{ii}} \\left(b_i - \\sum_{j = i+1}^{n} a_{ij}x_j^{(k)} - \\sum_{j=1}^{i-1}a_{ij}x_{j}^{(k+1)} \\right) \\, \\text{, para todo } i$$"
   ]
  },
  {
   "cell_type": "code",
   "execution_count": 18,
   "id": "d744c788-c745-4a0c-9cbd-22ef21759e27",
   "metadata": {},
   "outputs": [],
   "source": [
    "def Gauss_Seidel(A, b, tol = 1e-10, tope_iteraciones = 1000):\n",
    "    # Chequeamos que las dimensiones sean apropiadas\n",
    "    if A.shape[0] != A.shape[1]:\n",
    "        raise ValueError(\"La matriz A no es cuadrada\")\n",
    "    if A.shape[1] != b.shape[0]:\n",
    "        raise ValueError(\"Las dimensiones del sistema no cuadran\")\n",
    "\n",
    "    # Definimos a n como la dimensión de la matriz\n",
    "    n = A.shape[0]\n",
    "\n",
    "    # Inicializamos el vector respuesta\n",
    "    x = np.zeros(n)\n",
    "\n",
    "    k = 0\n",
    "    # Iteramos mientras no superemos el límite de iteraciones\n",
    "    while k < tope_iteraciones:\n",
    "        # Creamos una copia del vector x\n",
    "        x_nuevo = np.copy(x)\n",
    "\n",
    "        # Actualizamos a x_nuevo, que es x_i ^(k+1) en nuestra notación de arriba, siguiendo al método de Gauss-Seidel\n",
    "        for i in range(n):\n",
    "            suma = sum(A[i][j] * x_nuevo[j] for j in range(i)) + sum(A[i][j] * x[j] for j in range(i + 1, n))\n",
    "            x_nuevo[i] = (b[i] - suma) / A[i][i]\n",
    "            \n",
    "        # Si el método se estacionó, es decir, la diferencia entre el x_nuevo y el antiguo es menor que cierta tolerancia,\n",
    "        # directamente devolvemos el x_nuevo\n",
    "        if np.linalg.norm(x_nuevo - x, ord = np.inf) < tol:\n",
    "            return x_nuevo\n",
    "\n",
    "        # Actualizamos el valor de x para la siguiente iteración, y aumentamos en 1 el número de iteraciones\n",
    "        x = x_nuevo\n",
    "        k += 1\n",
    "        \n",
    "    # Si terminamos el while sin que el método se estacione, hacemos que la función devuelva un mensaje de advertencia.    \n",
    "    warnings.warn(f\"Advertencia: se alcanzó el tope de {tope_iteraciones} iteraciones sin converger.\")"
   ]
  },
  {
   "cell_type": "markdown",
   "id": "7daace32-c697-47e3-80eb-cc379dc5c457",
   "metadata": {
    "jp-MarkdownHeadingCollapsed": true
   },
   "source": [
    "#### Ejemplo 1 - Criterio Hermitiana y Definida Positiva"
   ]
  },
  {
   "cell_type": "markdown",
   "id": "9eaffd97-f14a-4560-af2b-12bb9f30f05a",
   "metadata": {},
   "source": [
    "Tomemos la matriz\n",
    "$$\n",
    "A\n",
    "=\n",
    "\\begin{pmatrix}\n",
    "0.3 & 0.1 & 0.2 \\\\\n",
    "0.1 & 0.4 & 0.1 \\\\\n",
    "0.2 & 0.1 & 0.3\n",
    "\\end{pmatrix}\n",
    "$$\n",
    "que, como veremos, es hermitiana y definida positiva, por lo que debería converger el método de Gauss-Seidel."
   ]
  },
  {
   "cell_type": "code",
   "execution_count": 19,
   "id": "c45b1870-c78f-4e99-8868-48fe065eaeca",
   "metadata": {},
   "outputs": [],
   "source": [
    "# Definimos otra matriz y otro vector para probar la función\n",
    "\n",
    "A = np.asarray([[0.3,0.1,0.2],[0.1,0.4,0.1],[0.2,0.1,0.3]])\n",
    "b = np.array([7,8,9])"
   ]
  },
  {
   "cell_type": "code",
   "execution_count": 20,
   "id": "57cc9a9c-26e4-46af-802b-e24f5d804aa1",
   "metadata": {},
   "outputs": [],
   "source": [
    "# Aseveramos que la matriz es hermitiana\n",
    "assert np.allclose(A.conj().T, A)\n",
    "# Aseveramos que la matriz es definida positiva\n",
    "assert np.all(np.linalg.eigvals(A)>0)"
   ]
  },
  {
   "cell_type": "code",
   "execution_count": 21,
   "id": "9782921e-6dd8-4d75-94fb-d3231c2a7a8d",
   "metadata": {},
   "outputs": [
    {
     "data": {
      "text/plain": [
       "array([ 3.33333333, 13.33333333, 23.33333333])"
      ]
     },
     "execution_count": 21,
     "metadata": {},
     "output_type": "execute_result"
    }
   ],
   "source": [
    "# Vemos la solución que nos da Python con numpy\n",
    "np.linalg.solve(A,b)"
   ]
  },
  {
   "cell_type": "code",
   "execution_count": 22,
   "id": "e7ac4e89-692d-48ed-b639-c412429a9ab3",
   "metadata": {},
   "outputs": [
    {
     "data": {
      "text/plain": [
       "array([ 3.33333333, 13.33333333, 23.33333333])"
      ]
     },
     "execution_count": 22,
     "metadata": {},
     "output_type": "execute_result"
    }
   ],
   "source": [
    "# Vemos la solución que nos da nuestro método de Jacobi\n",
    "Gauss_Seidel(A,b)"
   ]
  },
  {
   "cell_type": "markdown",
   "id": "ecd3ea5d-51c8-42fd-99ea-7adb37f52b67",
   "metadata": {},
   "source": [
    "Observamos, entonces, el comportamiento esperado."
   ]
  },
  {
   "cell_type": "markdown",
   "id": "df1b1594-77ca-4893-ad5d-7a24a79b22cd",
   "metadata": {},
   "source": [
    "## Método de Residuo Generalizado Mínimo (GMRES)"
   ]
  },
  {
   "cell_type": "code",
   "execution_count": 23,
   "id": "0cd77cf6-da70-4c56-b75f-93458ebf47f7",
   "metadata": {},
   "outputs": [],
   "source": [
    "### Ver si lo podemos implementar"
   ]
  },
  {
   "cell_type": "markdown",
   "id": "ea213aae-7b2b-4da6-bd39-e3cc19b1fd64",
   "metadata": {},
   "source": [
    "# Ejemplo práctico"
   ]
  },
  {
   "cell_type": "markdown",
   "id": "3b44ab62-1ce5-4520-b4b2-474e519e1659",
   "metadata": {},
   "source": [
    "Vamos a aplicar estos métodos al problema de una imagen desenfocada"
   ]
  },
  {
   "cell_type": "code",
   "execution_count": 24,
   "id": "31d6fc84-546c-42b9-b9ba-98740fef5951",
   "metadata": {},
   "outputs": [],
   "source": [
    "import funciones\n",
    "import ejemplos"
   ]
  },
  {
   "cell_type": "code",
   "execution_count": 25,
   "id": "a1cd6214-5016-4e08-97cb-9d9588374a7e",
   "metadata": {},
   "outputs": [],
   "source": [
    "# Elegimos parámetros para los ejemplos\n",
    "propagacion = [10, 10]\n",
    "tamaño = 64\n",
    "dimensiones = (tamaño, tamaño)\n",
    "pixeles = dimensiones[0] * dimensiones[1]"
   ]
  },
  {
   "cell_type": "markdown",
   "id": "1529e706-b46c-4d40-ad6a-75d56134b1b0",
   "metadata": {},
   "source": [
    "Mostramos ahora el vector $\\mathbf x_{\\rm true}$"
   ]
  },
  {
   "cell_type": "code",
   "execution_count": 26,
   "id": "cdb8ca85-34fb-4a05-a7a6-c880b66e5706",
   "metadata": {},
   "outputs": [
    {
     "data": {
      "image/png": "[encoded data removed]",
      "text/plain": [
       "<Figure size 640x480 with 1 Axes>"
      ]
     },
     "metadata": {},
     "output_type": "display_data"
    }
   ],
   "source": [
    "# Mostramos nuestro vector x_true con forma de H\n",
    "x_true = ejemplos.construir_x_true()\n",
    "funciones.guardar_vector(x_true, dimensiones, 'images/x_true.png')"
   ]
  },
  {
   "cell_type": "markdown",
   "id": "6023e0a8-dbb1-4f23-b46d-4871c632116b",
   "metadata": {},
   "source": [
    "Mostramos también el operador de difuminación, dado por la matriz $\\mathbf A$, de la cual mostramos una de sus columnas"
   ]
  },
  {
   "cell_type": "code",
   "execution_count": 27,
   "id": "88cf5c67-04dd-4bd2-ac09-bdbbb778652f",
   "metadata": {},
   "outputs": [
    {
     "data": {
      "image/png": "[encoded data removed]",
      "text/plain": [
       "<Figure size 640x480 with 1 Axes>"
      ]
     },
     "metadata": {},
     "output_type": "display_data"
    }
   ],
   "source": [
    "A = ejemplos.construir_A(propagacion, dimensiones)\n",
    "plt.imshow(funciones.im(A[:, int(dimensiones[0]**2/2 + dimensiones[1]/2)], dimensiones))\n",
    "plt.axis('off')\n",
    "plt.show()"
   ]
  },
  {
   "cell_type": "markdown",
   "id": "3d2d7746-e550-4a3a-85c3-0164524e30d2",
   "metadata": {},
   "source": [
    "## Ejemplo del funcionamiento de la matriz de desenfoque $\\mathbf A$ "
   ]
  },
  {
   "cell_type": "markdown",
   "id": "e341960f-ec61-43dd-a3af-b52d86ca7fad",
   "metadata": {},
   "source": [
    "Para mostrar cómo funciona el operador de desenfoque, se lo aplicamos a una imagen con un solo pixel iluminado en el centro, llamemosla $\\mathbf y_{\\rm pixel}$."
   ]
  },
  {
   "cell_type": "code",
   "execution_count": 28,
   "id": "d444d8e1-3ff2-47e4-8235-ddf4c1241bec",
   "metadata": {},
   "outputs": [
    {
     "data": {
      "image/png": "[encoded data removed]",
      "text/plain": [
       "<Figure size 640x480 with 1 Axes>"
      ]
     },
     "metadata": {},
     "output_type": "display_data"
    }
   ],
   "source": [
    "# Creamos un vector lleno de ceros y con uno representando el pixel del medio\n",
    "y_pixel = np.zeros(pixeles)\n",
    "y_pixel[2016] = 1\n",
    "funciones.mostrar_vector(y_pixel, dimensiones)"
   ]
  },
  {
   "cell_type": "markdown",
   "id": "9e10cf0d-a3fd-4886-912d-7087e30f9411",
   "metadata": {},
   "source": [
    "Veamos entonces, como queda el pixel desenfocado (i.e. $\\mathbf {A y_{\\rm pixel}}$)"
   ]
  },
  {
   "cell_type": "code",
   "execution_count": 29,
   "id": "eff7e56c-2021-4f20-bdbe-8d9694aad479",
   "metadata": {},
   "outputs": [
    {
     "data": {
      "image/png": "[encoded data removed]",
      "text/plain": [
       "<Figure size 640x480 with 1 Axes>"
      ]
     },
     "metadata": {},
     "output_type": "display_data"
    }
   ],
   "source": [
    "funciones.mostrar_vector(A.dot(y_pixel), dimensiones)"
   ]
  },
  {
   "cell_type": "markdown",
   "id": "93be17a3-6168-4288-9af2-06cd17fe9cde",
   "metadata": {},
   "source": [
    "## Construcción del problema"
   ]
  },
  {
   "cell_type": "markdown",
   "id": "66982be1-fdf9-4fe6-8d0b-84a48674656d",
   "metadata": {},
   "source": [
    "Volviendo a nuestro problema, en la vida real, lo que vamos a tener como dato será un $\\mathbf b$ ya desenfocado, y querremos tener la capacidad de reconstruir nuestra imagen original $\\mathbf x_{\\rm true}$. Pongámosnos entonces en ese caso hipótetico, obteniendo el $\\mathbf b_{\\rm true}$ de nuestra H que usamos como imagen, la $\\mathbf x_{\\rm true}$ de nuestro ejemplo. "
   ]
  },
  {
   "cell_type": "code",
   "execution_count": 30,
   "id": "d2232948-54ea-4024-b917-aac11d4bb266",
   "metadata": {},
   "outputs": [
    {
     "data": {
      "image/png": "[encoded data removed]",
      "text/plain": [
       "<Figure size 640x480 with 1 Axes>"
      ]
     },
     "metadata": {},
     "output_type": "display_data"
    }
   ],
   "source": [
    "b_true = A @ x_true\n",
    "funciones.mostrar_vector(b_true, dimensiones)"
   ]
  },
  {
   "cell_type": "markdown",
   "id": "0d02dc59-a6bb-4072-b51a-24f8cd7b5a1c",
   "metadata": {},
   "source": [
    "### Ruido"
   ]
  },
  {
   "cell_type": "markdown",
   "id": "d703e7ff-3641-4dac-8c95-fd42dfd90df7",
   "metadata": {},
   "source": [
    "En la vida real, también se agregan aún más complicaciones: no conocemos una versión fidedigna de $\\mathbf b_{\\rm true}$, si no que por lo general esta viene trastocada por un ruido, el cual nosotros vamos a agregar a nuestro ejemplo artificial usando la función auxiliar $\\texttt{agregar\\_ruido}$ de el archivo de funciones auxiliares $\\texttt{funciones.py}$\n",
    "\n",
    "Para ello, tenemos varios ruidos distintos para agregar, que vamos a ir mostrando:"
   ]
  },
  {
   "cell_type": "markdown",
   "id": "79c1b989-7b32-4998-9a81-f2d0fa602097",
   "metadata": {},
   "source": [
    "#### Ruido Gaussiano"
   ]
  },
  {
   "cell_type": "markdown",
   "id": "5ac17697-a93d-4422-8077-006dc9d6ffea",
   "metadata": {},
   "source": [
    "Así quedaría la imagen luego de aplicarle un ruido gaussiano:"
   ]
  },
  {
   "cell_type": "code",
   "execution_count": 31,
   "id": "0b245a46-1f19-433b-bc66-78e67f11310b",
   "metadata": {},
   "outputs": [
    {
     "data": {
      "image/png": "[encoded data removed]",
      "text/plain": [
       "<Figure size 640x480 with 1 Axes>"
      ]
     },
     "metadata": {},
     "output_type": "display_data"
    }
   ],
   "source": [
    "b_noise = funciones.agregar_ruido(b_true, opcion = \"Gaussiano\")\n",
    "funciones.mostrar_vector(b_noise, dimensiones)"
   ]
  },
  {
   "cell_type": "markdown",
   "id": "35583db5-3a88-4307-a4cb-fa7ad2ad35e3",
   "metadata": {},
   "source": [
    "#### Ruido Poisson"
   ]
  },
  {
   "cell_type": "markdown",
   "id": "fb61df72-80c1-4fcd-9244-b2729cae4554",
   "metadata": {},
   "source": [
    "Así quedaría la imagen con un ruido con una distribución de Poisson:"
   ]
  },
  {
   "cell_type": "code",
   "execution_count": 32,
   "id": "a85a1b44-a11a-41d0-ace5-bf346b2b1391",
   "metadata": {},
   "outputs": [
    {
     "data": {
      "image/png": "[encoded data removed]",
      "text/plain": [
       "<Figure size 640x480 with 1 Axes>"
      ]
     },
     "metadata": {},
     "output_type": "display_data"
    }
   ],
   "source": [
    "funciones.mostrar_vector(funciones.agregar_ruido(b_true, opcion = \"Poisson\"), dimensiones)"
   ]
  },
  {
   "cell_type": "markdown",
   "id": "8ffe13fc-0648-4e5a-be69-4c5435b9fd86",
   "metadata": {},
   "source": [
    "#### Ruido Laplace"
   ]
  },
  {
   "cell_type": "markdown",
   "id": "2ed1145c-b301-4ebc-884f-eadf0500c878",
   "metadata": {},
   "source": [
    "Así quedaría la imagen al aplicarle un ruido dado por una distribución de Laplace:"
   ]
  },
  {
   "cell_type": "code",
   "execution_count": 33,
   "id": "b4eef05c-16be-472a-8a18-95f5cd0b06bc",
   "metadata": {},
   "outputs": [
    {
     "data": {
      "image/png": "[encoded data removed]",
      "text/plain": [
       "<Figure size 640x480 with 1 Axes>"
      ]
     },
     "metadata": {},
     "output_type": "display_data"
    }
   ],
   "source": [
    "funciones.mostrar_vector(funciones.agregar_ruido(b_true, opcion = \"Laplace\"), dimensiones)"
   ]
  },
  {
   "cell_type": "markdown",
   "id": "d321bfce-bcd3-447b-a7e4-21720ef5dbea",
   "metadata": {},
   "source": [
    "#### Ruido Salt & Pepper"
   ]
  },
  {
   "cell_type": "markdown",
   "id": "d9641f72-dab1-48f2-b262-f23135b71d9d",
   "metadata": {},
   "source": [
    "Otro tipo de ruido: el Salt & Pepper, que ocurre en muchas imagenes, cubriendolas de manera dispersa con pixeles negros y blancos"
   ]
  },
  {
   "cell_type": "code",
   "execution_count": 34,
   "id": "9c37242f-05f7-4266-9d73-b3f499c474b6",
   "metadata": {},
   "outputs": [
    {
     "data": {
      "image/png": "[encoded data removed]",
      "text/plain": [
       "<Figure size 640x480 with 1 Axes>"
      ]
     },
     "metadata": {},
     "output_type": "display_data"
    }
   ],
   "source": [
    "funciones.mostrar_vector(funciones.agregar_ruido(b_true, opcion = \"saltpepper\"), dimensiones)"
   ]
  },
  {
   "cell_type": "markdown",
   "id": "b181dbd2-ba9b-4915-99bb-ff81d2ee09b2",
   "metadata": {},
   "source": [
    "## Resolución del problema"
   ]
  },
  {
   "cell_type": "markdown",
   "id": "5abd48cf-dbc8-441d-a158-39cae82ecaae",
   "metadata": {},
   "source": [
    "En lo que sigue, una vez ya charlado todo el tema de la difuminación y el inevitable ruido, vamos a trabajar con nuestro vector $\\mathbf b_{\\rm noise}$, generado con ruido Gaussiano, intentando reconstruir, a partir de él, una aproximación lo más buena que podamos de $\\mathbf x_{\\rm true}$. Por supuesto que, siempre debemos recordar que la gracia de esto es que en la vida real nunca vamos a conocer con precisión qué ruido sufrió la imagen, con lo cual el problema toma una dificultad distinta, y debemos recurrir a $\\textit{métodos de regularización}$, que es el interés pricipal de este notebook"
   ]
  },
  {
   "cell_type": "markdown",
   "id": "6bb03c8e-00f2-479d-b140-1ae5530b8991",
   "metadata": {},
   "source": [
    "### ¿Por qué reconstruir sin regularizar es una mala idea?"
   ]
  },
  {
   "cell_type": "markdown",
   "id": "8a8a7a4d-0e55-4509-a888-b8dfaec9f14d",
   "metadata": {},
   "source": [
    "La solución más ingenua a este problema sería simplemente resolver el sistema $\\mathbf{Ax = \\mathbf b}$ de una forma directa, probemos eso:"
   ]
  },
  {
   "cell_type": "code",
   "execution_count": 35,
   "id": "8f8c2a6b-77ea-4578-bfcb-3da1e3c0b348",
   "metadata": {},
   "outputs": [],
   "source": [
    "# Obtenemos la solución naive\n",
    "x_naive = np.linalg.solve(A,b_noise)"
   ]
  },
  {
   "cell_type": "markdown",
   "id": "3a5453e0-c02a-4c62-b636-61ba02ba870f",
   "metadata": {},
   "source": [
    "Comparemos la imagen que obtuvimos con la original:"
   ]
  },
  {
   "cell_type": "code",
   "execution_count": 36,
   "id": "9aaab177-9808-48f3-9155-e431d7f7d34c",
   "metadata": {},
   "outputs": [
    {
     "data": {
      "image/png": "[encoded data removed]",
      "text/plain": [
       "<Figure size 600x400 with 2 Axes>"
      ]
     },
     "metadata": {},
     "output_type": "display_data"
    }
   ],
   "source": [
    "# Hacemos subplots para hacer 2 gráficos en uno\n",
    "plt.figure(figsize=(6, 4))\n",
    "\n",
    "# Graficamos la imagen original\n",
    "plt.subplot(1, 2, 1)\n",
    "imagen_true = funciones.im(x_true, dimensiones)\n",
    "plt.imshow(imagen_true, vmin=0, vmax=np.max(imagen_true), cmap='gray')\n",
    "plt.title(\"Imagen original\")\n",
    "plt.axis('off')\n",
    "\n",
    "# Graficamos la reconstrucción naive\n",
    "plt.subplot(1, 2, 2)\n",
    "imagen_naive = funciones.im(x_naive, dimensiones)\n",
    "plt.imshow(imagen_naive, vmin=0, vmax=np.max(imagen_naive), cmap='gray')\n",
    "plt.title(\"Reconstrucción con un método directo\")\n",
    "plt.axis('off')\n",
    "\n",
    "# Mostramos\n",
    "plt.tight_layout()\n",
    "plt.show()"
   ]
  },
  {
   "cell_type": "markdown",
   "id": "175c332f-4889-43b5-a739-3d660a61c1c1",
   "metadata": {},
   "source": [
    "Podemos observar que la performance del método directo es, entonces, paupérrima, lo cual nos lleva a pensar maenras de solucionar este problema."
   ]
  },
  {
   "cell_type": "markdown",
   "id": "5aa721af-d268-4478-adbf-5790cf0b3007",
   "metadata": {},
   "source": [
    "### Controlar las iteraciones de GMRES"
   ]
  },
  {
   "cell_type": "markdown",
   "id": "a72e188f-712a-4271-8221-f019322fa16f",
   "metadata": {},
   "source": [
    "Un enfoque con el que se puede tratar el problema del mal condicionamiento es utilizar un método iterativo, como puede ser GMRES, parándolo antes de que el ruido contamine a la solución."
   ]
  },
  {
   "cell_type": "code",
   "execution_count": 37,
   "id": "050552ec-0b4b-41ff-864c-2ac69ab248e5",
   "metadata": {},
   "outputs": [
    {
     "name": "stdout",
     "output_type": "stream",
     "text": [
      "Criterio de saturación alcanzado en iteración 5.\n"
     ]
    }
   ],
   "source": [
    "# Definimos una reversión de GMRES en la cual controlamos el ruido\n",
    "def gmres_con_parada(A, b_noise, tol=1e-3, max_iter=50):\n",
    "    # Definimos unas variables para ir registrando los residuos\n",
    "    residuo_anterior = np.inf\n",
    "    residuos = []\n",
    "\n",
    "    # Definimos otra para ir llevando la aproximación actual de la solución en cada iteración\n",
    "    x_gmres_con_parada = None\n",
    "\n",
    "    # Probamos GMRES con k iteraciones, para k entre 1 y la cantidad de iteraciones máxima\n",
    "    for k in range(1, max_iter + 1):\n",
    "        # Obtenemos la solución con k iteraciones de GMRES\n",
    "        x_gmres_con_parada, _ = sp.sparse.linalg.gmres(A, b_noise, maxiter=k, rtol=1e-10, restart=k)\n",
    "\n",
    "        # Calculamos el residuo y lo agregamos a la lista\n",
    "        residuo_actual = np.linalg.norm(b_noise - A @ x_gmres_con_parada)\n",
    "        residuos.append(residuo_actual)\n",
    "\n",
    "        # Si el residuo no varió mucho entre iteración e iteración, frenamos el algoritmo y devolvemos esa respuesta\n",
    "        if residuo_anterior - residuo_actual < tol:\n",
    "            print(f\"Criterio de saturación alcanzado en iteración {k}.\")\n",
    "            break\n",
    "\n",
    "        # Actualizamos el residuo\n",
    "        residuo_anterior = residuo_actual\n",
    "\n",
    "    return x_gmres_con_parada, residuos\n",
    "\n",
    "# Ejecutar GMRES adaptativo\n",
    "x_gmres_con_parada, residuos = gmres_con_parada(A, b_noise)"
   ]
  },
  {
   "cell_type": "code",
   "execution_count": 38,
   "id": "c7ceadf0-4658-4cb2-adf2-8bb6e1e48c7f",
   "metadata": {},
   "outputs": [
    {
     "data": {
      "image/png": "[encoded data removed]",
      "text/plain": [
       "<Figure size 600x400 with 2 Axes>"
      ]
     },
     "metadata": {},
     "output_type": "display_data"
    }
   ],
   "source": [
    "# Hacemos subplots para hacer 2 gráficos en uno\n",
    "plt.figure(figsize=(6, 4))\n",
    "\n",
    "# Graficamos la imagen original\n",
    "plt.subplot(1, 2, 1)\n",
    "plt.imshow(imagen_true, vmin=0, vmax=np.max(imagen_true), cmap='gray')\n",
    "plt.title(\"Imagen original\")\n",
    "plt.axis('off')\n",
    "\n",
    "# Graficamos la reconstrucción naive\n",
    "plt.subplot(1, 2, 2)\n",
    "imagen_gmres_con_parada = funciones.im(x_gmres_con_parada, dimensiones)\n",
    "plt.imshow(imagen_gmres_con_parada, vmin=0, vmax=np.max(imagen_gmres_con_parada), cmap='gray')\n",
    "plt.title(\"Reconstrucción con GMRES con parada\")\n",
    "plt.axis('off')\n",
    "\n",
    "# Mostramos\n",
    "plt.tight_layout()\n",
    "plt.show()"
   ]
  },
  {
   "cell_type": "markdown",
   "id": "b31bbb99-e370-406d-828f-6f5a30dc861a",
   "metadata": {},
   "source": [
    "Observamos una performance significativamente mejor a la ingenua, pero aún bastante insatisfactoria. Algo positivo en este caso es que casi podemos distinguir formas: la H se empieza a vislumbrar"
   ]
  },
  {
   "cell_type": "markdown",
   "id": "d6385ca0-39b2-431a-afe2-81960ad69dce",
   "metadata": {},
   "source": [
    "### Regularización de Tikhonov"
   ]
  },
  {
   "cell_type": "markdown",
   "id": "4614c8c0-f3ef-471b-a157-1026f5d95dbb",
   "metadata": {},
   "source": [
    "Otro posible enfoque es afrontar el problema haciendo primero una regularización de Tikhonov, esto es, pasar de querer resolver el problema \n",
    "$$ \\mathbf{Ax = b}\\,,$$\n",
    "\n",
    "a intentar resolver\n",
    "\n",
    "$$\\min_{\\mathbf x} \\|\\mathbf{Ax-b}\\|_2^2 + \\lambda^2 \\|\\mathbf{x}\\|_2^2\\,,$$\n",
    "\n",
    "donde $\\lambda > 0$ es un hiperparámetro llamado \"de regularización\", que ayuda a mantener $\\|x\\|_2^2$ pequeño, lo cual nos interesa para tener buenas soluciones.\n",
    "\n",
    "Se puede demostrar que resolver ese problema de minimización es equivalente a resolver el sistema\n",
    "\n",
    "$$(\\mathbf{A}^T \\mathbf{A} + \\lambda^2 I) \\mathbf{x} = \\mathbf{A}^T \\mathbf{b}\\,,$$\n",
    "\n",
    "lo cual podemos hacer utilizando GMRES."
   ]
  },
  {
   "cell_type": "code",
   "execution_count": 39,
   "id": "a9433c1e-782b-456a-87c0-a5c14106526d",
   "metadata": {},
   "outputs": [],
   "source": [
    "# Elegimos un lambda arbitrario y ploteo la solución\n",
    "lamb = 1/4\n",
    "\n",
    "# Resolvemos con GMRES\n",
    "A_reg = A.T @ A + lamb**2 * np.eye(A.shape[0])\n",
    "b_reg = A.T @ b_noise\n",
    "x_reg, _ = sp.sparse.linalg.gmres(A_reg, b_reg)"
   ]
  },
  {
   "cell_type": "code",
   "execution_count": 40,
   "id": "cd894523-da8c-4cdc-bee7-ee3ceca65f5d",
   "metadata": {},
   "outputs": [
    {
     "data": {
      "image/png": "[encoded data removed]",
      "text/plain": [
       "<Figure size 640x480 with 1 Axes>"
      ]
     },
     "metadata": {},
     "output_type": "display_data"
    }
   ],
   "source": [
    "funciones.mostrar_vector(x_reg, dimensiones)"
   ]
  },
  {
   "cell_type": "markdown",
   "id": "6aedd2dd-19f9-49fd-bb6f-e2e81cffb338",
   "metadata": {},
   "source": [
    "Sin embargo, al involucrar demasiadas operaciones donde aparece la matriz $\\mathbf A$, que como sabemos es pésimamente condicionada, este método no nos va a dar los mejores resultados por sus errores numéricos, de modo que encararemos la solución de Tikhonov por otro lado:"
   ]
  },
  {
   "cell_type": "markdown",
   "id": "1b101d92-d35b-4709-b43c-7ca0bf86d67a",
   "metadata": {},
   "source": [
    "Podemos recordar que en los métodos de filtrado la solución viene dada como\n",
    "\n",
    "$$ \\mathbf{x_filt = \\sum_{i=1}^{n} \\phi_i \\frac{u_i^T b}{\\sigma_i} v_i}$$\n",
    "\n",
    "donde los $\\mathbf{u_i, v_i}$ son los vectores singulares y los $\\mathbf{\\sigma_i}$ los valores singulares y los $\\phi_i$ son los coeficientes de filtraado que elegimos, en el caso de Tikhonov estos vienen dados por\n",
    "\n",
    "$$ \\mathbf{ \\phi_i = \\frac{\\sigma_i^2}{\\sigma_i^2 + \\lambda^2}}$$\n",
    "\n",
    "Construyamos, entonces, esos coeficientes $\\mathbf{\\phi_i}$"
   ]
  },
  {
   "cell_type": "code",
   "execution_count": 112,
   "id": "772860ff-0c48-46e0-8aae-50f2ea6d09c1",
   "metadata": {},
   "outputs": [],
   "source": [
    "# Obtenemos la descomposición SVD \n",
    "U, Sigma, Vt = np.linalg.svd(A)"
   ]
  },
  {
   "cell_type": "code",
   "execution_count": 117,
   "id": "b0d72f06-b84e-4fe4-b7dd-5ffe2ca88c7f",
   "metadata": {},
   "outputs": [],
   "source": [
    "# Elegimos un parámetro lambda arbitrario para el ejemplo\n",
    "lamb = 1/4\n",
    "# Obtenemos los coeficientes de Tikhonov divididos por sigma_i\n",
    "tikh_coef = np.array([s/(s**2 + lamb**2) for s in Sigma]) "
   ]
  },
  {
   "cell_type": "markdown",
   "id": "35bfc9fd-a1d6-4353-9a2a-c1f0205f2d73",
   "metadata": {},
   "source": [
    "La solución estará dada entonces por\n",
    "\n",
    "$$\\mathbf{x_{\\rm tikh} = \\sum_{i=1}^{n} \\frac{\\sigma_i^2}{\\sigma_i^2 + \\lambda^2} \\frac{u_i^T b}{\\sigma_i} v_i = \\sum_{i=1}^{n} v_i\\frac{\\sigma_i}{\\sigma_i^2 + \\lambda^2} u_i^T b}$$"
   ]
  },
  {
   "cell_type": "code",
   "execution_count": 114,
   "id": "f7faa5de-4430-4a5e-b1f4-8224c6f75eda",
   "metadata": {},
   "outputs": [],
   "source": [
    "# La solución de Tikhonov viene dada por la suma de arriba\n",
    "x_tikh = Vt.T @ np.diag(tikh_coef) @ U.T @ b_noise"
   ]
  },
  {
   "cell_type": "code",
   "execution_count": 115,
   "id": "347b7da8-88f2-4d14-9006-e9e0ea60316f",
   "metadata": {},
   "outputs": [
    {
     "data": {
      "image/png": "[encoded data removed]",
      "text/plain": [
       "<Figure size 640x480 with 1 Axes>"
      ]
     },
     "metadata": {},
     "output_type": "display_data"
    }
   ],
   "source": [
    "# Mostramos la solución\n",
    "funciones.mostrar_vector(x_tikh, dimensiones)"
   ]
  },
  {
   "cell_type": "markdown",
   "id": "cb6f3f33-dbb9-46f6-9da7-9b288ee71438",
   "metadata": {},
   "source": [
    "Podemos observar una mejora con respecto a la solución de GMRES con parada, pero aún así, el $\\lambda$ que elegimos fue totalmente arbitrario, y quizás hay $\\lambda$'s que nos generan una solución mucho mejor, con lo cual deberíamos utilizar algún método confiable para seleccionar este hipérparametro $\\lambda$."
   ]
  },
  {
   "cell_type": "markdown",
   "id": "383b31d6-2e09-4a2c-bef5-174892884678",
   "metadata": {},
   "source": [
    "#### Curva L"
   ]
  },
  {
   "cell_type": "markdown",
   "id": "05f47fd0-2be7-43ba-961b-2858884582cf",
   "metadata": {},
   "source": [
    "Uno de los métodos más usados para determinar hipérparámetros, es el de la \"Curva L\" o \"L-Curve\", una curva parametrizada por $\\lambda$, donde comparamos $\\|\\mathbf{Ax}^{\\rm reg} - \\mathbf{b}\\|$ vs $\\|\\mathbf{x}^{\\rm reg}\\|$ y buscamos visualmente un \"codo\", para obtener el $\\lambda$ ideal."
   ]
  },
  {
   "cell_type": "code",
   "execution_count": 170,
   "id": "66ec0d30-8437-49d4-8f81-4b340600814c",
   "metadata": {},
   "outputs": [],
   "source": [
    "# Generamos un espacio de lambdas\n",
    "lambdas = np.logspace(-6,0)\n",
    "\n",
    "# Creamos vector para ir guardando las normas de los residuos y los coeficientes de regularización\n",
    "residuos = []\n",
    "xs = []\n",
    "\n",
    "for lamb in lambdas:\n",
    "    tikh_coef = np.array([s/(s**2 + lamb**2) for s in Sigma]) \n",
    "    x_tikh = Vt.T @ np.diag(tikh_coef) @ U.T @ b_noise\n",
    "    xs.append(np.linalg.norm(x_tikh))\n",
    "    residuos.append(np.linalg.norm(A@x_tikh - b_noise))"
   ]
  },
  {
   "cell_type": "code",
   "execution_count": 171,
   "id": "3a0236e2-2662-452b-9eeb-ffe1cedbdd03",
   "metadata": {},
   "outputs": [
    {
     "data": {
      "image/png": "[encoded data removed]",
      "text/plain": [
       "<Figure size 640x480 with 1 Axes>"
      ]
     },
     "metadata": {},
     "output_type": "display_data"
    }
   ],
   "source": [
    "plt.loglog(residuos, xs)\n",
    "plt.title(r\"Curva $L$\")\n",
    "plt.xlabel(r'$||Ax_{\\rm tikh} - b||$')\n",
    "plt.ylabel(r'$||x_{\\rm tikh}||$')\n",
    "plt.show()"
   ]
  },
  {
   "cell_type": "code",
   "execution_count": 178,
   "id": "725d1b21-66f5-4b1c-912d-7c3bcfc3197e",
   "metadata": {},
   "outputs": [
    {
     "data": {
      "image/png": "[encoded data removed]",
      "text/plain": [
       "<Figure size 640x480 with 1 Axes>"
      ]
     },
     "metadata": {},
     "output_type": "display_data"
    }
   ],
   "source": [
    "# Mostramos la curva L con el codo marcado\n",
    "plt.loglog(residuos, xs)\n",
    "plt.title(r\"Curva $L$ para Tikhonov Generalizado\")\n",
    "plt.xlabel(r'$||Ax_{\\rm tikh} - b||$')\n",
    "plt.ylabel(r'$||x_{\\rm tikh}||$')\n",
    "plt.scatter(residuos[30],xs[30], color=\"red\",zorder=3)\n",
    "plt.text(residuos[30] + 0.01, xs[30]+10, fr'$\\lambda={round(lambdas[30],6)}$', fontsize=10)\n",
    "plt.show()"
   ]
  },
  {
   "cell_type": "code",
   "execution_count": 179,
   "id": "58dff545-b31c-47ee-9932-8818c056c682",
   "metadata": {},
   "outputs": [
    {
     "name": "stdout",
     "output_type": "stream",
     "text": [
      "El lambda ideal obtenido por la curva L es 0.004714866363457394\n"
     ]
    }
   ],
   "source": [
    "# Mostramos el lambda ideal obtenido\n",
    "print(f\"El lambda ideal obtenido por la curva L es {lambdas[30]}\")"
   ]
  },
  {
   "cell_type": "code",
   "execution_count": 180,
   "id": "00412f61-2a0a-45c1-a174-29dcc66028f0",
   "metadata": {},
   "outputs": [],
   "source": [
    "# Obtenemos la solución ideal\n",
    "tikh_coef = np.array([s/(s**2 + lambdas[30]**2) for s in Sigma]) \n",
    "x_tikh = Vt.T @ np.diag(tikh_coef) @ U.T @ b_noise"
   ]
  },
  {
   "cell_type": "code",
   "execution_count": 181,
   "id": "b63f1a94-c56e-4f08-9cd1-cf0177935dac",
   "metadata": {},
   "outputs": [
    {
     "data": {
      "image/png": "[encoded data removed]",
      "text/plain": [
       "<Figure size 600x400 with 2 Axes>"
      ]
     },
     "metadata": {},
     "output_type": "display_data"
    }
   ],
   "source": [
    "# Hacemos subplots para hacer 2 gráficos en uno\n",
    "plt.figure(figsize=(6, 4))\n",
    "\n",
    "# Graficamos la imagen original\n",
    "plt.subplot(1, 2, 1)\n",
    "plt.imshow(imagen_true, vmin=0, vmax=np.max(imagen_true), cmap='gray')\n",
    "plt.title(\"Imagen original\")\n",
    "plt.axis('off')\n",
    "\n",
    "# Graficamos la reconstrucción naive\n",
    "plt.subplot(1, 2, 2)\n",
    "imagen_tikh = funciones.im(x_tikh, dimensiones)\n",
    "plt.imshow(imagen_tikh, vmin=0, vmax=np.max(imagen_tikh), cmap='gray')\n",
    "plt.title(\"Reconstrucción con Tikhonov\")\n",
    "plt.axis('off')\n",
    "\n",
    "# Mostramos\n",
    "plt.tight_layout()\n",
    "plt.show()"
   ]
  },
  {
   "cell_type": "markdown",
   "id": "046bdb72-1b0a-4257-aec8-16c4f4b091ea",
   "metadata": {},
   "source": [
    "Vemos como ahora obtenemos una solución que se parece bastante más a la 'H' original"
   ]
  },
  {
   "cell_type": "markdown",
   "id": "a54177ae-60c0-4139-a5a1-249e4dc847bc",
   "metadata": {},
   "source": [
    "### Regularización de Tikhonov Generalizada"
   ]
  },
  {
   "cell_type": "markdown",
   "id": "25539390-34a4-478a-8784-492b87cbfece",
   "metadata": {},
   "source": [
    "Otro enfoque es extender la regularización de Tikhonov a $$\\mathbf{\\min_{x} \\|Ax-b\\|_2^2 + \\lambda^2 \\|Lx\\|_2^2}\\,,$$ donde $L$ es un operador de regularización que puede ser, por ejemplo, la derivada o alguna otra transformación. En este ejemplo, usaremos $L$ como el operador de la primera derivada."
   ]
  },
  {
   "cell_type": "code",
   "execution_count": 182,
   "id": "f29b5ef1-f79e-467c-b161-4ec14e00adbb",
   "metadata": {},
   "outputs": [],
   "source": [
    "# Creamos el operador L\n",
    "L = funciones.operador_derivada_2D(dimensiones[0])"
   ]
  },
  {
   "cell_type": "markdown",
   "id": "189ffc28-33f9-4d7d-a45c-e1496181f8dd",
   "metadata": {},
   "source": [
    "Sabemos que el problema tiene solución\n",
    "\n",
    "$$ \\mathbf{x_{\\rm GTikh} = (A^T A + \\lambda^2 L^T L)^{-1}A^T b}$$"
   ]
  },
  {
   "cell_type": "code",
   "execution_count": 183,
   "id": "59d209d6-35e5-4cc2-825e-07bc4f73a00a",
   "metadata": {},
   "outputs": [],
   "source": [
    "# Creamos la L-Curve para determinar lambda\n",
    "\n",
    "# Creamos vector para ir guardando las normas de los residuos y los coeficientes de regularización\n",
    "residuos_der = []\n",
    "xs_der = []\n",
    "\n",
    "for lamb in lambdas:\n",
    "    x_gtikh = np.linalg.solve(A.T.dot(A) + lamb**2 * L.T.dot(L), A.T.dot(b_noise))\n",
    "    xs_der.append(np.linalg.norm(x_gtikh))\n",
    "    residuos_der.append(np.linalg.norm(A@x_gtikh - b_noise))"
   ]
  },
  {
   "cell_type": "code",
   "execution_count": 190,
   "id": "826134eb-8dfc-46a8-adc9-dadc183d526b",
   "metadata": {},
   "outputs": [
    {
     "data": {
      "image/png": "[encoded data removed]",
      "text/plain": [
       "<Figure size 640x480 with 1 Axes>"
      ]
     },
     "metadata": {},
     "output_type": "display_data"
    }
   ],
   "source": [
    "# Mostramos la curva L y el codo\n",
    "plt.loglog(residuos_der, xs_der)\n",
    "plt.title(r\"Curva $L$ para Tikhonov Generalizado\")\n",
    "plt.xlabel(r'$||Ax_{\\rm tikh} - b||$')\n",
    "plt.ylabel(r'$||x_{\\rm tikh}||$')\n",
    "plt.scatter(residuos_der[32],xs_der[32], color=\"red\",zorder=3)\n",
    "plt.text(residuos_der[32] + 0.01, xs_der[32]+10, fr'$\\lambda={round(lambdas[32],6)}$', fontsize=10)\n",
    "plt.show()"
   ]
  },
  {
   "cell_type": "code",
   "execution_count": 191,
   "id": "8aac7403-aa0b-4566-bd04-051f9a872ef4",
   "metadata": {},
   "outputs": [
    {
     "name": "stdout",
     "output_type": "stream",
     "text": [
      "El lambda ideal obtenido por la curva L es 0.008286427728546842\n"
     ]
    }
   ],
   "source": [
    "# Mostramos el lambda ideal obtenido\n",
    "print(f\"El lambda ideal obtenido por la curva L es {lambdas[32]}\")"
   ]
  },
  {
   "cell_type": "code",
   "execution_count": 192,
   "id": "1d8c5910-adba-4e8d-b632-2187ea669703",
   "metadata": {},
   "outputs": [],
   "source": [
    "# Obtenemos la solución\n",
    "x_gtikh = np.linalg.solve(A.T.dot(A) + lambdas[32]**2 * L.T.dot(L), A.T.dot(b_noise))"
   ]
  },
  {
   "cell_type": "code",
   "execution_count": 193,
   "id": "bdc93a91-d422-42f5-b716-2b1235f57f10",
   "metadata": {},
   "outputs": [
    {
     "data": {
      "image/png": "[encoded data removed]",
      "text/plain": [
       "<Figure size 600x400 with 2 Axes>"
      ]
     },
     "metadata": {},
     "output_type": "display_data"
    }
   ],
   "source": [
    "# Hacemos subplots para hacer 2 gráficos en uno\n",
    "plt.figure(figsize=(6, 4))\n",
    "\n",
    "# Graficamos la imagen original\n",
    "plt.subplot(1, 2, 1)\n",
    "plt.imshow(imagen_true, vmin=0, vmax=np.max(imagen_true), cmap='gray')\n",
    "plt.title(\"Imagen original\")\n",
    "plt.axis('off')\n",
    "\n",
    "# Graficamos la reconstrucción naive\n",
    "plt.subplot(1, 2, 2)\n",
    "imagen_gtikh = funciones.im(x_gtikh, dimensiones)\n",
    "plt.imshow(imagen_gtikh, vmin=0, vmax=np.max(imagen_gtikh), cmap='gray')\n",
    "plt.title(\"Reconstrucción con Tikhonov Generalizado\")\n",
    "plt.axis('off')\n",
    "\n",
    "# Mostramos\n",
    "plt.tight_layout()\n",
    "plt.show()"
   ]
  },
  {
   "cell_type": "markdown",
   "id": "6cc074e3-63bf-4cc0-a9f1-5838585d3d29",
   "metadata": {},
   "source": [
    "La solución mejoró, pero esta vez no tanto."
   ]
  },
  {
   "cell_type": "markdown",
   "id": "10f41170-ea33-4688-84a0-595e38ec1801",
   "metadata": {},
   "source": [
    "### LSQR"
   ]
  },
  {
   "cell_type": "markdown",
   "id": "0fd538d7-1e8c-49d2-a98c-74d9fbececd1",
   "metadata": {},
   "source": [
    "También podríamos intentar resolver con otros métodos como LSQR que minimizan $\\|Ax-b\\|_2^2$ a la vez que $\\|x\\|_2^2$, lo cual nos interesa pues ya hay una regularización inherente al método. Los probamos acá:"
   ]
  },
  {
   "cell_type": "code",
   "execution_count": 93,
   "id": "7ec2fdef-8d32-43ff-8bf9-bb2bdc122fc6",
   "metadata": {},
   "outputs": [],
   "source": [
    "# Obtenemos la solución de LSQR\n",
    "lamb = 1/80\n",
    "x_lsqr = sp.sparse.linalg.lsqr(A, b_noise, damp = lamb)"
   ]
  },
  {
   "cell_type": "code",
   "execution_count": 94,
   "id": "4a95f6bf-01de-43b5-a1b5-9d7914c988e7",
   "metadata": {},
   "outputs": [
    {
     "data": {
      "image/png": "[encoded data removed]",
      "text/plain": [
       "<Figure size 600x400 with 2 Axes>"
      ]
     },
     "metadata": {},
     "output_type": "display_data"
    }
   ],
   "source": [
    "# Hacemos subplots para hacer 2 gráficos en uno\n",
    "plt.figure(figsize=(6, 4))\n",
    "\n",
    "# Graficamos la imagen original\n",
    "plt.subplot(1, 2, 1)\n",
    "plt.imshow(imagen_true, vmin=0, vmax=np.max(imagen_true), cmap='gray')\n",
    "plt.title(\"Imagen original\", fontsize = 10)\n",
    "plt.axis('off')\n",
    "\n",
    "# Graficamos la reconstrucción naive\n",
    "plt.subplot(1, 2, 2)\n",
    "imagen_lsqr = funciones.im(x_lsqr[0], dimensiones)\n",
    "plt.imshow(imagen_lsqr, vmin=0, vmax=np.max(imagen_lsqr), cmap='gray')\n",
    "plt.title(r\"Reconstrucción resolviendo con LSQR con $\\lambda = \\frac{1}{80}\\,, x_0 = 0$\", fontsize = 10)\n",
    "plt.axis('off')\n",
    "\n",
    "# Mostramos\n",
    "plt.tight_layout()\n",
    "plt.show()"
   ]
  },
  {
   "cell_type": "markdown",
   "id": "ad6dfbf7-8479-4718-b071-0f7a977cc928",
   "metadata": {},
   "source": [
    "### LSMR"
   ]
  },
  {
   "cell_type": "markdown",
   "id": "5c316d1e-58cd-4996-a842-f2d1d15c6e3e",
   "metadata": {},
   "source": [
    "También podríamos intentar resolver con otros métodos como LSQR que minimizan $\\|Ax-b\\|_2^2$ a la vez que $\\|x\\|_2^2$, lo cual nos interesa pues ya hay una regularización inherente al método. Los probamos acá:"
   ]
  },
  {
   "cell_type": "code",
   "execution_count": 96,
   "id": "83f28bca-8732-447b-8965-2eab8439f433",
   "metadata": {},
   "outputs": [],
   "source": [
    "# Obtenemos la solución de LSQR\n",
    "lamb = 1/80\n",
    "x_lsmr = sp.sparse.linalg.lsmr(A, b_noise, damp = lamb)"
   ]
  },
  {
   "cell_type": "code",
   "execution_count": 97,
   "id": "a29a8587-8cb3-4b14-b622-6c175a58f9fa",
   "metadata": {},
   "outputs": [
    {
     "data": {
      "image/png": "[encoded data removed]",
      "text/plain": [
       "<Figure size 600x400 with 2 Axes>"
      ]
     },
     "metadata": {},
     "output_type": "display_data"
    }
   ],
   "source": [
    "# Hacemos subplots para hacer 2 gráficos en uno\n",
    "plt.figure(figsize=(6, 4))\n",
    "\n",
    "# Graficamos la imagen original\n",
    "plt.subplot(1, 2, 1)\n",
    "plt.imshow(imagen_true, vmin=0, vmax=np.max(imagen_true), cmap='gray')\n",
    "plt.title(\"Imagen original\", fontsize = 10)\n",
    "plt.axis('off')\n",
    "\n",
    "# Graficamos la reconstrucción naive\n",
    "plt.subplot(1, 2, 2)\n",
    "imagen_lsmr = funciones.im(x_lsmr[0], dimensiones)\n",
    "plt.imshow(imagen_lsmr, vmin=0, vmax=np.max(imagen_lsmr), cmap='gray')\n",
    "plt.title(r\"Reconstrucción resolviendo con LSQR con $\\lambda = \\frac{1}{80}\\,, x_0 = 0$\", fontsize = 10)\n",
    "plt.axis('off')\n",
    "\n",
    "# Mostramos\n",
    "plt.tight_layout()\n",
    "plt.show()"
   ]
  }
 ],
 "metadata": {
  "kernelspec": {
   "display_name": "Python 3 (ipykernel)",
   "language": "python",
   "name": "python3"
  },
  "language_info": {
   "codemirror_mode": {
    "name": "ipython",
    "version": 3
   },
   "file_extension": ".py",
   "mimetype": "text/x-python",
   "name": "python",
   "nbconvert_exporter": "python",
   "pygments_lexer": "ipython3",
   "version": "3.11.5"
  }
 },
 "nbformat": 4,
 "nbformat_minor": 5
}
